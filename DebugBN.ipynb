{
 "cells": [
  {
   "cell_type": "code",
   "execution_count": 1,
   "id": "571ecd88-af72-4166-bc33-ee9ede75def7",
   "metadata": {},
   "outputs": [
    {
     "data": {
      "text/html": [
       "<style>:root { --jp-notebook-max-width: 100% !important; }</style>"
      ],
      "text/plain": [
       "<IPython.core.display.HTML object>"
      ]
     },
     "metadata": {},
     "output_type": "display_data"
    }
   ],
   "source": [
    "from IPython.display import display, HTML\n",
    "display(HTML(\"<style>:root { --jp-notebook-max-width: 100% !important; }</style>\"))"
   ]
  },
  {
   "cell_type": "code",
   "execution_count": 2,
   "id": "8c6e6260-5ef0-47bb-8ad6-f1068c9aa160",
   "metadata": {},
   "outputs": [],
   "source": [
    "from sklearn import datasets\n",
    "from sklearn.model_selection import train_test_split\n",
    "from matplotlib import pyplot as plt\n",
    "import numpy as np\n",
    "from copy import deepcopy\n",
    "import pickle\n",
    "import pandas as pd\n",
    "from tqdm import tqdm\n",
    "import torch"
   ]
  },
  {
   "cell_type": "code",
   "execution_count": 3,
   "id": "b411e1e2-ce0a-4a37-a637-94b77e0b3e88",
   "metadata": {},
   "outputs": [],
   "source": [
    "def none_reg(x):\n",
    "    return x"
   ]
  },
  {
   "cell_type": "code",
   "execution_count": 4,
   "id": "b9c6c977-8a68-4442-9083-48a8c6151275",
   "metadata": {},
   "outputs": [],
   "source": [
    "data = pd.read_csv(\"archive/fashion-mnist_train.csv\")\n",
    "\n",
    "X = torch.from_numpy(data[data.columns[1:]].values).float().cuda()\n",
    "Y = torch.from_numpy(data[data.columns[0]].values).float().cuda()"
   ]
  },
  {
   "cell_type": "code",
   "execution_count": 5,
   "id": "c617c456-2ff6-41af-a371-f70e2d359e75",
   "metadata": {},
   "outputs": [],
   "source": [
    "test_data = pd.read_csv(\"archive/fashion-mnist_test.csv\")\n",
    "\n",
    "test_x = torch.from_numpy(test_data[test_data.columns[1:]].values).float().cuda()\n",
    "test_y = torch.from_numpy(test_data[test_data.columns[0]].values).float().cuda()\n",
    "\n",
    "test_x = test_x / 255"
   ]
  },
  {
   "cell_type": "code",
   "execution_count": 6,
   "id": "7f6f73bf-1d20-404e-a31a-ff4071c98cce",
   "metadata": {},
   "outputs": [],
   "source": [
    "X_train_small, X_test_small, y_train_small, y_test_small = train_test_split(X, Y, test_size=0.2, shuffle=True, random_state=42)\n",
    "X_train_small = X_train_small / 255\n",
    "X_test_small = X_test_small / 255"
   ]
  },
  {
   "cell_type": "code",
   "execution_count": 7,
   "id": "7b38495a-aaa3-430f-a497-303a46cdbffb",
   "metadata": {},
   "outputs": [],
   "source": [
    "def get_batches(x, y, batch_size):\n",
    "    \n",
    "    for i in range(0, len(x), batch_size):\n",
    "        yield x[i:i + batch_size], y[i:i + batch_size]\n",
    "\n",
    "batch_size = 1024"
   ]
  },
  {
   "cell_type": "code",
   "execution_count": 69,
   "id": "9029e466-6df8-455e-84c2-db7d92c627ca",
   "metadata": {},
   "outputs": [],
   "source": [
    "import torch\n",
    "\n",
    "\n",
    "class Linear:\n",
    "\n",
    "    def __init__(self, size: tuple, weight=None, bias=None, init_type='leaky_relu'):\n",
    "\n",
    "        # FIXME\n",
    "        if init_type == 'leaky_relu':\n",
    "            self.weight = (torch.randn(size) / size[0] ** 0.5 * 1.4142128552668443).cuda()\n",
    "            self.bias = torch.randn(size[1]).cuda()\n",
    "\n",
    "        if weight is not None:\n",
    "            self.weight = weight\n",
    "            self.bias = bias\n",
    "        \n",
    "        self.out = None\n",
    "\n",
    "    def update_weights(self, dweights, dbias):\n",
    "\n",
    "        self.weight -= dweights\n",
    "        self.bias -= dbias\n",
    "\n",
    "    def get_weights(self):\n",
    "        return self.weight, self.bias\n",
    "\n",
    "    def __call__(self, x, *args, **kwargs):\n",
    "        \n",
    "        out = x @ self.weight + self.bias\n",
    "        self.out = out\n",
    "        \n",
    "        return out\n",
    "\n",
    "\n",
    "class BatchNorm1d:\n",
    "  \n",
    "    def __init__(self, dim, eps=1e-5, momentum=0.1):\n",
    "    \n",
    "        self.eps = eps\n",
    "        self.momentum = momentum\n",
    "        self.training = True\n",
    "    \n",
    "        self.gamma = torch.ones(dim).cuda()\n",
    "        self.beta = torch.zeros(dim).cuda()\n",
    "   \n",
    "        self.running_mean = torch.zeros(dim).cuda()\n",
    "        self.running_var = torch.ones(dim).cuda()\n",
    "\n",
    "        self.x = None\n",
    "        self.xhat = None\n",
    "        self.out = None\n",
    "\n",
    "        self.mean = None\n",
    "        self.var = None\n",
    "    \n",
    "    def update_weights(self, dgamma, dbeta):\n",
    "\n",
    "        self.gamma -= dgamma\n",
    "        self.beta -= dbeta\n",
    "\n",
    "\n",
    "    def __call__(self, x):\n",
    "\n",
    "        self.x = x\n",
    "        \n",
    "        if self.training:\n",
    "            self.mean = x.mean(0, keepdim=True) # batch mean\n",
    "            self.var = x.var(0, keepdim=True, unbiased=True) # batch variance\n",
    "\n",
    "        else:\n",
    "            self.mean = self.running_mean\n",
    "            self.var = self.running_var\n",
    "      \n",
    "        self.xhat = (x - self.mean) / torch.sqrt(self.var + self.eps) # normalize to unit variance\n",
    "        \n",
    "        if self.training:\n",
    "      \n",
    "            with torch.no_grad():\n",
    "                # refer to https://pytorch.org/docs/stable/generated/torch.nn.BatchNorm1d.html#torch.nn.BatchNorm1d\n",
    "                xvar2ema = x.var(0, keepdim=True, unbiased=True)\n",
    "                self.running_mean = (1 - self.momentum) * self.running_mean + self.momentum * self.mean\n",
    "                self.running_var = (1 - self.momentum) * self.running_var + self.momentum * xvar2ema\n",
    "        \n",
    "        self.out = self.gamma * self.xhat + self.beta\n",
    "        \n",
    "        return self.out\n",
    "\n",
    "    def backward(self, dL_dy, use_old, lr):\n",
    "        \n",
    "        dL_dgamma = torch.sum(dL_dy * self.xhat, axis=0)\n",
    "        dL_dbeta = torch.sum(dL_dy, axis=0)\n",
    "        \n",
    "        N = self.xhat.shape[0]\n",
    "        \n",
    "        if not use_old:\n",
    "            self.update_weights(dL_dgamma * lr, dL_dbeta * lr)\n",
    "        \n",
    "        dL_dx_hat = dL_dy * self.gamma\n",
    "\n",
    "        dL_dvariance = torch.sum(dL_dx_hat * (self.x - self.mean) * -0.5 * (self.var + self.eps) ** -1.5, axis=0)\n",
    "\n",
    "        dL_dmean = torch.sum(dL_dx_hat * -1 / torch.sqrt(self.var + self.eps), axis=0) + dL_dvariance * torch.mean(-2 * (self.x - self.mean), axis=0)\n",
    "        \n",
    "        dL_dx = (dL_dx_hat / torch.sqrt(self.var + self.eps)) + (dL_dvariance * 2 / N * (self.x - self.mean)) + (dL_dmean / N)\n",
    "\n",
    "        if use_old:\n",
    "            self.update_weights(dL_dgamma * lr, dL_dbeta * lr)\n",
    "                        \n",
    "        return dL_dx\n",
    "\n",
    "class LReLU:\n",
    "    def __init__(self, a):\n",
    "        self.a = a\n",
    "        \n",
    "        self.out = None\n",
    "        self.local_grad = None\n",
    "\n",
    "    def __call__(self, x, *args, **kwargs):\n",
    "        out = torch.where(x >= 0, x, self.a * x)\n",
    "        self.out = out\n",
    "        self.local_grad = torch.where(out >= 0, 1, self.a)\n",
    "        return out\n",
    "\n",
    "class CrossEntropy:\n",
    "\n",
    "    def __init__(self, optimize_exponents=True):\n",
    "        self.optimize_exponents = optimize_exponents\n",
    "        self.local_grad = None\n",
    "\n",
    "    def __call__(self, x, target, *args, **kwargs):\n",
    "        num_classes = x.shape[-1]\n",
    "        one_hot_target = torch.nn.functional.one_hot(target.long(), num_classes)\n",
    "        self.local_grad = -(one_hot_target - self.get_probabilities(x)) / len(x)\n",
    "        mean_cross_entropy = -((x * one_hot_target).sum(axis=1, keepdim=True) - x.exp().sum(axis=1, keepdim=True).log()).mean()\n",
    "        return mean_cross_entropy\n",
    "        \n",
    "        # equal to torch.nn.CrossEntropyLoss()\n",
    "        # torch_ce = torch.nn.CrossEntropyLoss()\n",
    "        # return torch_ce(x, target.long())\n",
    "        # assert torch.abs(torch_ce(x, target) - mean_cross_entropy).max() < 1e-3\n",
    "\n",
    "    def get_probabilities(self, x):\n",
    "        _gamma = torch.amax(x)\n",
    "        if self.optimize_exponents:\n",
    "            _exp_outputs = (x - _gamma).exp()\n",
    "        else:\n",
    "            _exp_outputs = x.exp()\n",
    "        return (_exp_outputs.T / _exp_outputs.sum(axis=1)).T"
   ]
  },
  {
   "cell_type": "code",
   "execution_count": 63,
   "id": "00e923fa-5c29-4df1-9aaa-6cea50e7b0f5",
   "metadata": {},
   "outputs": [],
   "source": [
    "import torch\n",
    "\n",
    "class Network:\n",
    "\n",
    "    def __init__(self, reg_func, loss_func, reg_lambda: float, lr: float):\n",
    "        self.layers = []\n",
    "        self.reg_func = reg_func\n",
    "        self.reg_lambda = reg_lambda\n",
    "        self.lr = lr\n",
    "        self.loss_func = loss_func\n",
    "        self.loss = None\n",
    "\n",
    "    def change_lr(self, lr):\n",
    "        self.lr = lr\n",
    "    \n",
    "    def add_layer(self, layer):\n",
    "        \n",
    "        if not self.layers or not layer.__class__.__name__ == 'Linear':\n",
    "            self.layers.append(layer)\n",
    "\n",
    "        elif self.layers[-1].__class__.__name__ != 'Linear' or (self.layers[-1].weight.shape[1] == layer.weight.shape[0]):\n",
    "            self.layers.append(layer)\n",
    "\n",
    "        else:\n",
    "            raise Exception(\"Wrong size of the layer!\")\n",
    "\n",
    "    def get_loss(self):\n",
    "        return self.loss\n",
    "\n",
    "    def predict(self, x):\n",
    "        \n",
    "        for layer in self.layers:\n",
    "            x = layer(x)\n",
    "        return x\n",
    "    \n",
    "\n",
    "    def eval(self, x, target):\n",
    "        \n",
    "        for layer in self.layers:\n",
    "            x = layer(x)\n",
    "            \n",
    "        return self.loss_func(x, target).item()        \n",
    "        \n",
    "    def my_fit(self, x, target, use_old):\n",
    "                \n",
    "        dhdw = x.clone()\n",
    "        for layer in self.layers:\n",
    "            x = layer(x)\n",
    "            \n",
    "        self.loss = self.loss_func(x, target)\n",
    "        \n",
    "        dloss = self.loss_func.local_grad\n",
    "        \n",
    "        layers_reversed = self.layers[::-1]\n",
    "\n",
    "        for i, layer in enumerate(layers_reversed):\n",
    "            \n",
    "            if layer.__class__.__name__ == 'Linear':\n",
    "                \n",
    "                layer_weights, layer_biases = layer.get_weights()\n",
    "                \n",
    "                try:\n",
    "                    d_weights = layers_reversed[i+1].out.T @ dloss\n",
    "                    d_bias = (torch.ones(layers_reversed[i+1].out.shape[0]).cuda() @ dloss) / layers_reversed[i+1].out.shape[0]\n",
    "                    # print(d_weights.mean().item())\n",
    "                    \n",
    "                except IndexError:\n",
    "                    d_weights = dhdw.T @ dloss\n",
    "                    d_bias = (torch.ones(dhdw.shape[0]).cuda() @ dloss) / dhdw.shape[0]\n",
    "                    \n",
    "                old_w = layer_weights.clone()\n",
    "                \n",
    "                layer.update_weights(self.lr * (d_weights + self.reg_lambda * (self.reg_func(layer_weights))),\n",
    "                                     self.lr * (d_bias + self.reg_lambda * (self.reg_func(layer_biases))))\n",
    "                                \n",
    "                if use_old:\n",
    "                    dloss = dloss @ old_w.T \n",
    "                else:\n",
    "                    dloss = dloss @ layer_weights.T \n",
    "\n",
    "            elif layer.__class__.__name__ == 'BatchNorm1d':\n",
    "                \n",
    "                dloss = layer.backward(dloss, 0.01, use_old)\n",
    "                                \n",
    "            else:\n",
    "                dloss *= layer.local_grad\n",
    "                \n",
    "        return self.loss"
   ]
  },
  {
   "cell_type": "code",
   "execution_count": 56,
   "id": "437c67b0-9900-45c7-bcfb-ffbe8b8b3cac",
   "metadata": {},
   "outputs": [],
   "source": [
    "import torch\n",
    "from copy import deepcopy\n",
    "\n",
    "class TinyModel(torch.nn.Module):\n",
    "\n",
    "    def __init__(self):\n",
    "        super(TinyModel, self).__init__()\n",
    "        torch.manual_seed(0)\n",
    "        self.linear1 = torch.nn.Linear(784, 10)\n",
    "        self.bn1 = torch.nn.BatchNorm1d(10)\n",
    "        self.relu1 = torch.nn.LeakyReLU(0.001)        \n",
    "        self.linear2 = torch.nn.Linear(10, 10)\n",
    "\n",
    "    def forward(self, x):\n",
    "        x = self.linear1(x)\n",
    "        x = self.bn1(x)\n",
    "        x = self.relu1(x)\n",
    "        x = self.linear2(x)\n",
    "        #print(x.mean().item())\n",
    "        return x"
   ]
  },
  {
   "cell_type": "code",
   "execution_count": 64,
   "id": "bda664ea-7269-4dad-b59d-5965304a062e",
   "metadata": {},
   "outputs": [
    {
     "name": "stdout",
     "output_type": "stream",
     "text": [
      "\u001b[H\u001b[2J"
     ]
    }
   ],
   "source": [
    "tinymodel = TinyModel()\n",
    "tinymodel.cuda()\n",
    "\n",
    "init_weight1 = deepcopy(tinymodel.linear1.weight.detach().T)\n",
    "init_bias1 = deepcopy(tinymodel.linear1.bias.detach())\n",
    "\n",
    "init_weight2 = deepcopy(tinymodel.linear2.weight.detach().T)\n",
    "init_bias2 = deepcopy(tinymodel.linear2.bias.detach())\n",
    "\n",
    "optimizer = torch.optim.SGD(tinymodel.parameters(), lr=0.01, weight_decay=0.0,)\n",
    "loss_fn = torch.nn.CrossEntropyLoss()\n",
    "\n",
    "lt = []\n",
    "bn_grads = []\n",
    "dw_grads = []\n",
    "\n",
    "def train(l):\n",
    "    for ep in range(100):\n",
    "        #print(f'{ep} ---------------------')\n",
    "        loss_ = []\n",
    "        for i, batch in enumerate(get_batches(X_test_small, y_test_small, batch_size)):\n",
    "            \n",
    "            x_batch, y_batch = batch\n",
    "            optimizer.zero_grad()\n",
    "\n",
    "            outputs = tinymodel(x_batch)\n",
    "            loss = loss_fn(outputs, y_batch.long())\n",
    "            \n",
    "            loss_.append(loss.detach().cpu())\n",
    "            \n",
    "            loss.backward()\n",
    "            optimizer.step()\n",
    "            # print('bn gain', tinymodel.bn1.weight.grad.detach().mean().item())\n",
    "            # print('w2 grad', tinymodel.linear2.weight.grad.detach().mean().item())\n",
    "            \n",
    "            # print(tinymodel.bn1.weight.detach().mean().item())\n",
    "            \n",
    "        lt.append(sum(loss_) / len(loss_))\n",
    "        \n",
    "train(lt)\n",
    "%clear"
   ]
  },
  {
   "cell_type": "code",
   "execution_count": 58,
   "id": "9d9d9583-f716-4cca-a694-69a4c24da3ba",
   "metadata": {},
   "outputs": [
    {
     "data": {
      "text/plain": [
       "[<matplotlib.lines.Line2D at 0x7644758b7d90>]"
      ]
     },
     "execution_count": 58,
     "metadata": {},
     "output_type": "execute_result"
    },
    {
     "data": {
      "image/png": "[encoded data removed]",
      "text/plain": [
       "<Figure size 640x480 with 1 Axes>"
      ]
     },
     "metadata": {},
     "output_type": "display_data"
    }
   ],
   "source": [
    "plt.plot(lt)"
   ]
  },
  {
   "cell_type": "code",
   "execution_count": 13,
   "id": "2d17f4ad-6ebb-49ea-b3b5-66d5f8f36dde",
   "metadata": {},
   "outputs": [
    {
     "data": {
      "text/plain": [
       "[<matplotlib.lines.Line2D at 0x7643484ea260>]"
      ]
     },
     "execution_count": 13,
     "metadata": {},
     "output_type": "execute_result"
    },
    {
     "data": {
      "image/png": "[encoded data removed]",
      "text/plain": [
       "<Figure size 640x480 with 1 Axes>"
      ]
     },
     "metadata": {},
     "output_type": "display_data"
    }
   ],
   "source": [
    "plt.plot(lt)"
   ]
  },
  {
   "cell_type": "code",
   "execution_count": 66,
   "id": "b35a4f4a-ac85-47a0-8a8b-f31fc8a4c6cb",
   "metadata": {},
   "outputs": [],
   "source": [
    "ce = CrossEntropy(optimize_exponents=True)\n",
    "\n",
    "nn3_old = Network(reg_func=none_reg, loss_func=ce, reg_lambda=0.0, lr=0.01)\n",
    "\n",
    "nn3_old.add_layer(Linear((784, 10), weight=init_weight1, bias=init_bias1))\n",
    "nn3_old.add_layer(BatchNorm1d(10))\n",
    "nn3_old.add_layer(LReLU(0.001))\n",
    "nn3_old.add_layer(Linear((10, 10), weight=init_weight2, bias=init_bias2))\n",
    "\n",
    "nn3_new = deepcopy(nn3_old)"
   ]
  },
  {
   "cell_type": "code",
   "execution_count": 67,
   "id": "6144e5d7-024f-47e1-9c54-e208ef6565ea",
   "metadata": {},
   "outputs": [],
   "source": [
    "loss_new = []\n",
    "for ep in range(100):\n",
    "    loss_ = []\n",
    "    for i, batch in enumerate(get_batches(X_test_small, y_test_small, batch_size)):\n",
    "        \n",
    "        x_batch, y_batch = batch\n",
    "        \n",
    "        loss_.append(nn3_new.my_fit(x_batch, y_batch, False).item())\n",
    "        \n",
    "    loss_new.append(sum(loss_) / len(loss_))\n",
    "\n",
    "\n",
    "loss_old = []\n",
    "for ep in range(100):\n",
    "    loss_ = []\n",
    "    for i, batch in enumerate(get_batches(X_test_small, y_test_small, batch_size)):\n",
    "        \n",
    "        x_batch, y_batch = batch\n",
    "        \n",
    "        loss_.append(nn3_old.my_fit(x_batch, y_batch, True).item())\n",
    "        \n",
    "    loss_old.append(sum(loss_) / len(loss_))\n",
    "\n"
   ]
  },
  {
   "cell_type": "code",
   "execution_count": 25,
   "id": "4ebad1d7-40f0-492c-a55a-63d8d79fdcb1",
   "metadata": {},
   "outputs": [
    {
     "data": {
      "text/plain": [
       "<matplotlib.legend.Legend at 0x7644806361d0>"
      ]
     },
     "execution_count": 25,
     "metadata": {},
     "output_type": "execute_result"
    },
    {
     "data": {
      "image/png": "[encoded data removed]",
      "text/plain": [
       "<Figure size 640x480 with 1 Axes>"
      ]
     },
     "metadata": {},
     "output_type": "display_data"
    }
   ],
   "source": [
    "plt.plot(loss_old, 'bo', label='old-no-BN', alpha=.2)\n",
    "plt.plot(loss_new, 'r+', label='new-no-BN', alpha=0.2)\n",
    "plt.plot(lt, label='PyTorch-no-BN')\n",
    "plt.legend()"
   ]
  },
  {
   "cell_type": "code",
   "execution_count": 61,
   "id": "3dca1c7b-0578-4aac-95cf-2cc92607e59e",
   "metadata": {},
   "outputs": [
    {
     "data": {
      "text/plain": [
       "<matplotlib.legend.Legend at 0x764475623940>"
      ]
     },
     "execution_count": 61,
     "metadata": {},
     "output_type": "execute_result"
    },
    {
     "data": {
      "image/png": "[encoded data removed]",
      "text/plain": [
       "<Figure size 640x480 with 1 Axes>"
      ]
     },
     "metadata": {},
     "output_type": "display_data"
    }
   ],
   "source": [
    "plt.plot(loss_old[:200], label='old-with-BN')\n",
    "plt.plot(loss_new[:200], label='new-with-BN')\n",
    "plt.plot(lt[:200], label='PyTorch-with-BN')\n",
    "plt.legend()"
   ]
  },
  {
   "cell_type": "code",
   "execution_count": 65,
   "id": "acc865b4-9bed-43e4-aab5-43dac4c93170",
   "metadata": {},
   "outputs": [
    {
     "data": {
      "text/plain": [
       "<matplotlib.legend.Legend at 0x7644753a3ca0>"
      ]
     },
     "execution_count": 65,
     "metadata": {},
     "output_type": "execute_result"
    },
    {
     "data": {
      "image/png": "[encoded data removed]",
      "text/plain": [
       "<Figure size 640x480 with 1 Axes>"
      ]
     },
     "metadata": {},
     "output_type": "display_data"
    }
   ],
   "source": [
    "plt.plot(loss_old[:200], label='old-with-BN')\n",
    "plt.plot(loss_new[:200], label='new-with-BN')\n",
    "plt.plot(lt[:200], label='PyTorch-with-BN')\n",
    "plt.legend()"
   ]
  },
  {
   "cell_type": "code",
   "execution_count": 668,
   "id": "ab6f51b2-7f8e-44d5-9326-4c7b13a48723",
   "metadata": {},
   "outputs": [],
   "source": [
    "def get_probabilities(x):\n",
    "    _gamma = torch.amax(x)\n",
    "    _exp_outputs = (x - _gamma).exp()\n",
    "    return (_exp_outputs.T / _exp_outputs.sum(axis=1)).T"
   ]
  },
  {
   "cell_type": "code",
   "execution_count": 669,
   "id": "5000a9a4-665a-4377-80cd-08af58fc6a5d",
   "metadata": {},
   "outputs": [],
   "source": [
    "# dhprebn = bngain*bnvar_inv/n * (n*dhpreact - dhpreact.sum(0) - n/(n-1)*bnraw*(dhpreact*bnraw).sum(0))"
   ]
  },
  {
   "cell_type": "code",
   "execution_count": 675,
   "id": "fb75fd81-2594-4fbf-929b-c3983002beec",
   "metadata": {},
   "outputs": [],
   "source": [
    "x = torch.randn((10, 10), requires_grad=True)\n",
    "\n",
    "n = 10\n",
    "mybn = BatchNorm1d(n)"
   ]
  },
  {
   "cell_type": "code",
   "execution_count": 720,
   "id": "b2274d09-d189-4383-b9b3-e96dc3b8d1cc",
   "metadata": {},
   "outputs": [
    {
     "data": {
      "text/plain": [
       "2.981389284133911"
      ]
     },
     "execution_count": 720,
     "metadata": {},
     "output_type": "execute_result"
    }
   ],
   "source": [
    "\n",
    "\n",
    "xbn_my = mybn(x)\n",
    "\n",
    "one_hot_target = torch.nn.functional.one_hot(torch.arange(10), 10)\n",
    "dl_dbn = -(one_hot_target - get_probabilities(xbn_my)) / len(xbn_my)\n",
    "\n",
    "mean_cross_entropy = -((xbn_my * one_hot_target).sum(axis=1, keepdim=True) - xbn_my.exp().sum(axis=1, keepdim=True).log()).mean()\n",
    "my_x_grad = mybn.backward(dl_dbn)[0]\n",
    "\n",
    "mean_cross_entropy.item()\n"
   ]
  },
  {
   "cell_type": "code",
   "execution_count": 573,
   "id": "54df7763-25a1-4f5d-b8bf-101f8aa5de56",
   "metadata": {},
   "outputs": [
    {
     "data": {
      "text/plain": [
       "tensor(2.9975, grad_fn=<NegBackward0>)"
      ]
     },
     "execution_count": 573,
     "metadata": {},
     "output_type": "execute_result"
    }
   ],
   "source": [
    "mean_cross_entropy"
   ]
  },
  {
   "cell_type": "code",
   "execution_count": 574,
   "id": "9b2e2582-6e6e-4278-8d2e-207fcb83b5cb",
   "metadata": {},
   "outputs": [
    {
     "data": {
      "text/plain": [
       "tensor(2.9975, grad_fn=<NllLossBackward0>)"
      ]
     },
     "execution_count": 574,
     "metadata": {},
     "output_type": "execute_result"
    }
   ],
   "source": [
    "torch_ce = torch.nn.CrossEntropyLoss()\n",
    "torch_bn = torch.nn.BatchNorm1d(10)\n",
    "\n",
    "# torch_bn.weight = torch.nn.Parameter(my_bn.gamma.squeeze())\n",
    "# torch_bn.bias = torch.nn.Parameter(my_bn.beta.squeeze())\n",
    "\n",
    "xbn = torch_bn(x)\n",
    "l = torch_ce(xbn, torch.arange(10))\n",
    "l.backward()\n",
    "l"
   ]
  },
  {
   "cell_type": "code",
   "execution_count": 575,
   "id": "7e237d2b-047c-4c6e-b66f-2e3233c23bc8",
   "metadata": {},
   "outputs": [
    {
     "data": {
      "text/plain": [
       "True"
      ]
     },
     "execution_count": 575,
     "metadata": {},
     "output_type": "execute_result"
    }
   ],
   "source": [
    "torch.allclose(x.grad, my_x_grad)"
   ]
  },
  {
   "cell_type": "code",
   "execution_count": 563,
   "id": "d53e10c4-9235-421f-87d0-560aff6206d9",
   "metadata": {},
   "outputs": [
    {
     "data": {
      "text/plain": [
       "(tensor([[-0.0592,  0.0114,  0.0069,  0.0068,  0.0278,  0.0020,  0.0119, -0.0022,\n",
       "           0.0101,  0.0035],\n",
       "         [ 0.0084, -0.0815,  0.0080,  0.0081,  0.0407,  0.0166,  0.0182, -0.0130,\n",
       "           0.0153,  0.0100],\n",
       "         [ 0.0074,  0.0094, -0.0788,  0.0378,  0.0256,  0.0068,  0.0213,  0.0071,\n",
       "           0.0088,  0.0366],\n",
       "         [ 0.0077,  0.0086,  0.0141, -0.0939,  0.0098,  0.0466,  0.0234,  0.0128,\n",
       "           0.0167,  0.0169],\n",
       "         [ 0.0086,  0.0101,  0.0075,  0.0071, -0.1169, -0.0006,  0.0049,  0.0263,\n",
       "           0.0096,  0.0010],\n",
       "         [ 0.0062,  0.0055,  0.0038,  0.0078, -0.0024, -0.0900, -0.0044,  0.0123,\n",
       "           0.0043, -0.0013],\n",
       "         [ 0.0024,  0.0057,  0.0067,  0.0035,  0.0036,  0.0209, -0.1079,  0.0071,\n",
       "           0.0045, -0.0066],\n",
       "         [ 0.0067,  0.0173,  0.0129,  0.0044,  0.0066, -0.0046,  0.0160, -0.0593,\n",
       "           0.0231,  0.0114],\n",
       "         [ 0.0072,  0.0053,  0.0105,  0.0116, -0.0022, -0.0251,  0.0122, -0.0037,\n",
       "          -0.1003,  0.0022],\n",
       "         [ 0.0046,  0.0082,  0.0083,  0.0067,  0.0075,  0.0274,  0.0043,  0.0127,\n",
       "           0.0078, -0.0737]], grad_fn=<AddBackward0>),\n",
       " tensor([ 0.0931,  0.0641,  0.0489,  0.0522,  0.1545, -0.0903,  0.1397, -0.0758,\n",
       "          0.0660,  0.2136], grad_fn=<SumBackward1>),\n",
       " tensor([ 0.0003, -0.0113, -0.0013,  0.0152, -0.0108, -0.0016,  0.0142, -0.0063,\n",
       "         -0.0010,  0.0026], grad_fn=<SumBackward1>))"
      ]
     },
     "execution_count": 563,
     "metadata": {},
     "output_type": "execute_result"
    }
   ],
   "source": [
    "cBn.backward(dl_dbn)"
   ]
  },
  {
   "cell_type": "code",
   "execution_count": 562,
   "id": "6d47b24d-8401-442c-b006-63c7bc3edbbd",
   "metadata": {},
   "outputs": [
    {
     "data": {
      "text/plain": [
       "tensor([[-0.0592,  0.0114,  0.0069,  0.0068,  0.0278,  0.0020,  0.0119, -0.0022,\n",
       "          0.0101,  0.0035],\n",
       "        [ 0.0084, -0.0815,  0.0080,  0.0081,  0.0407,  0.0166,  0.0182, -0.0130,\n",
       "          0.0153,  0.0100],\n",
       "        [ 0.0074,  0.0094, -0.0788,  0.0378,  0.0256,  0.0068,  0.0213,  0.0071,\n",
       "          0.0088,  0.0366],\n",
       "        [ 0.0077,  0.0086,  0.0141, -0.0939,  0.0098,  0.0466,  0.0234,  0.0128,\n",
       "          0.0167,  0.0169],\n",
       "        [ 0.0086,  0.0101,  0.0075,  0.0071, -0.1169, -0.0006,  0.0049,  0.0263,\n",
       "          0.0096,  0.0010],\n",
       "        [ 0.0062,  0.0055,  0.0038,  0.0078, -0.0024, -0.0900, -0.0044,  0.0123,\n",
       "          0.0043, -0.0013],\n",
       "        [ 0.0024,  0.0057,  0.0067,  0.0035,  0.0036,  0.0209, -0.1079,  0.0071,\n",
       "          0.0045, -0.0066],\n",
       "        [ 0.0067,  0.0173,  0.0129,  0.0044,  0.0066, -0.0046,  0.0160, -0.0593,\n",
       "          0.0231,  0.0114],\n",
       "        [ 0.0072,  0.0053,  0.0105,  0.0116, -0.0022, -0.0251,  0.0122, -0.0037,\n",
       "         -0.1003,  0.0022],\n",
       "        [ 0.0046,  0.0082,  0.0083,  0.0067,  0.0075,  0.0274,  0.0043,  0.0127,\n",
       "          0.0078, -0.0737]])"
      ]
     },
     "execution_count": 562,
     "metadata": {},
     "output_type": "execute_result"
    }
   ],
   "source": [
    "x.grad"
   ]
  },
  {
   "cell_type": "code",
   "execution_count": 484,
   "id": "6cd2a615-2610-4408-854c-c0c67f1163b2",
   "metadata": {},
   "outputs": [
    {
     "name": "stdout",
     "output_type": "stream",
     "text": [
      "tensor([[-0.0980,  0.0062,  0.0155,  0.0023,  0.0055,  0.0455,  0.0167,  0.0020,\n",
      "          0.0015,  0.0028],\n",
      "        [ 0.0071, -0.0893,  0.0028,  0.0638,  0.0040,  0.0020,  0.0025,  0.0017,\n",
      "          0.0045,  0.0009],\n",
      "        [ 0.0020,  0.0060, -0.0890,  0.0034,  0.0019,  0.0051,  0.0072,  0.0287,\n",
      "          0.0008,  0.0341],\n",
      "        [ 0.0085,  0.0042,  0.0012, -0.0852,  0.0064,  0.0445,  0.0028,  0.0046,\n",
      "          0.0044,  0.0086],\n",
      "        [ 0.0184,  0.0033,  0.0019,  0.0076, -0.0856,  0.0027,  0.0043,  0.0103,\n",
      "          0.0306,  0.0066],\n",
      "        [ 0.0172,  0.0036,  0.0029,  0.0020,  0.0082, -0.0979,  0.0365,  0.0071,\n",
      "          0.0161,  0.0044],\n",
      "        [ 0.0159,  0.0040,  0.0103,  0.0090,  0.0027,  0.0020, -0.0975,  0.0309,\n",
      "          0.0183,  0.0044],\n",
      "        [ 0.0026,  0.0115,  0.0266,  0.0019,  0.0250,  0.0084,  0.0079, -0.0948,\n",
      "          0.0046,  0.0064],\n",
      "        [ 0.0025,  0.0354,  0.0076,  0.0060,  0.0101,  0.0085,  0.0046,  0.0031,\n",
      "         -0.0906,  0.0129],\n",
      "        [ 0.0120,  0.0099,  0.0130,  0.0053,  0.0138,  0.0020,  0.0069,  0.0195,\n",
      "          0.0128, -0.0952]])\n"
     ]
    }
   ],
   "source": [
    "import torch\n",
    "\n",
    "torch_bn = torch.nn.BatchNorm1d(10)\n",
    "torch_ce = torch.nn.CrossEntropyLoss()\n",
    "\n",
    "torch_bn.weight = torch.nn.Parameter(my_bn.gamma.squeeze())\n",
    "torch_bn.bias = torch.nn.Parameter(my_bn.beta.squeeze())\n",
    "\n",
    "# Forward pass\n",
    "xbn = torch_bn(x)\n",
    "\n",
    "# Retain gradient for xbn\n",
    "xbn.retain_grad()\n",
    "\n",
    "# Compute loss\n",
    "l = torch_ce(xbn, torch.arange(10))\n",
    "\n",
    "# Backward pass\n",
    "l.backward()\n",
    "\n",
    "# Access the gradient of xbn\n",
    "print(xbn.grad)  # This will give you dl/d(xbn)"
   ]
  },
  {
   "cell_type": "code",
   "execution_count": 485,
   "id": "a37de959-f234-4a0e-b838-578d0c01778c",
   "metadata": {},
   "outputs": [
    {
     "data": {
      "text/plain": [
       "tensor(1.1176e-08, grad_fn=<MaxBackward1>)"
      ]
     },
     "execution_count": 485,
     "metadata": {},
     "output_type": "execute_result"
    }
   ],
   "source": [
    "torch.abs(xbn.grad - dl_dbn).max()"
   ]
  },
  {
   "cell_type": "code",
   "execution_count": 486,
   "id": "a3a9966e-4428-43b5-b0f8-eb83fa0eb7c8",
   "metadata": {},
   "outputs": [
    {
     "data": {
      "text/plain": [
       "tensor(2.3842e-07, grad_fn=<MaxBackward1>)"
      ]
     },
     "execution_count": 486,
     "metadata": {},
     "output_type": "execute_result"
    }
   ],
   "source": [
    "torch.abs(xbn_my - xbn).max()"
   ]
  },
  {
   "cell_type": "code",
   "execution_count": 518,
   "id": "39d104d9-a54a-4c15-9714-58b28a24c95e",
   "metadata": {},
   "outputs": [
    {
     "data": {
      "text/plain": [
       "tensor([[ 9.4172e-01,  4.1672e-02,  2.5657e-01, -1.6293e+00,  1.8485e+00,\n",
       "          1.0613e+00,  7.8434e-01, -8.9071e-01,  1.2013e+00,  8.8416e-01],\n",
       "        [ 2.4092e-01, -1.0990e+00,  1.5264e+00,  1.0040e+00, -3.9175e-01,\n",
       "          1.0957e+00,  1.1343e+00, -1.2813e+00,  2.3199e-01,  7.9816e-01],\n",
       "        [-7.8347e-01, -1.0853e+00, -1.5076e+00,  6.0687e-01, -8.5463e-01,\n",
       "          8.5280e-01, -1.4043e+00, -9.3556e-02, -1.3239e+00,  4.8695e-01],\n",
       "        [-1.7819e+00, -4.8601e-01, -8.7661e-01, -1.3369e+00, -1.5269e+00,\n",
       "          3.0918e-01,  1.1510e+00,  1.4270e+00,  5.9426e-02,  7.8396e-02],\n",
       "        [-1.2704e+00, -1.0569e+00, -1.4091e-01,  9.1541e-01,  9.4450e-02,\n",
       "         -2.3383e-01, -1.3598e+00, -8.6818e-01,  1.5114e+00,  1.2520e+00],\n",
       "        [-3.4711e-01, -5.1965e-01,  1.1780e+00, -1.5754e-01,  4.7851e-01,\n",
       "         -4.7296e-01,  9.6013e-01,  7.1813e-01, -9.7158e-01,  7.5134e-02],\n",
       "        [ 2.3494e-01,  1.5419e+00, -1.2056e+00,  8.4806e-01, -9.0551e-01,\n",
       "          8.6900e-02,  4.9380e-01, -1.3830e+00, -9.3184e-01, -1.8416e+00],\n",
       "        [ 1.6053e+00,  1.5107e+00, -6.1622e-01,  3.2524e-01,  1.1913e+00,\n",
       "         -2.2744e+00,  1.2059e-01,  2.4794e-01, -1.2454e+00, -8.9553e-01],\n",
       "        [ 9.1482e-01,  1.1527e+00,  2.6847e-01,  7.9082e-01,  6.9765e-01,\n",
       "         -1.0184e+00, -8.9781e-01,  9.6099e-01,  8.2979e-01,  6.3452e-01],\n",
       "        [ 2.4515e-01, -1.0700e-04,  1.1176e+00, -1.3667e+00, -6.3160e-01,\n",
       "          5.9379e-01, -9.8226e-01,  1.1626e+00,  6.3883e-01, -1.4722e+00]])"
      ]
     },
     "execution_count": 518,
     "metadata": {},
     "output_type": "execute_result"
    }
   ],
   "source": [
    "x = torch.rand((10, 10))\n",
    "\n",
    "xmean = x.mean(0, keepdim=True)\n",
    "xvar = (x.var(0, keepdim=True, unbiased=False) + 1e-5)\n",
    "\n",
    "xvar_inv = torch.sqrt(xvar)**-1\n",
    "xraw = (x - xmean) * xvar_inv\n",
    "xraw"
   ]
  },
  {
   "cell_type": "code",
   "execution_count": 523,
   "id": "2afeb954-be79-41e3-b910-2e21b2271385",
   "metadata": {},
   "outputs": [
    {
     "data": {
      "text/plain": [
       "True"
      ]
     },
     "execution_count": 523,
     "metadata": {},
     "output_type": "execute_result"
    }
   ],
   "source": [
    "torch_bn = torch.nn.BatchNorm1d(10)\n",
    "torch.allclose(torch_bn(x), xraw)"
   ]
  },
  {
   "cell_type": "code",
   "execution_count": 554,
   "id": "ad790be7-0c2e-457a-a0e9-73919ecc168e",
   "metadata": {},
   "outputs": [],
   "source": [
    "import numpy as np\n",
    "\n",
    "class CustomBatchNorm:\n",
    "    def __init__(self, num_features, epsilon=1e-5):\n",
    "        self.gamma = torch.ones(num_features)\n",
    "        self.beta = torch.zeros(num_features)\n",
    "        self.epsilon = epsilon\n",
    "\n",
    "    def forward(self, x):\n",
    "        self.x = x\n",
    "        self.mean = torch.mean(x, keepdim=True, axis=0)\n",
    "        self.variance = torch.var(x, keepdim=True, unbiased=False, axis=0)\n",
    "        self.x_hat = (x - self.mean) / torch.sqrt(self.variance + self.epsilon)\n",
    "        self.y = self.gamma * self.x_hat + self.beta\n",
    "        return self.y\n",
    "\n",
    "    def backward(self, dL_dy):\n",
    "        N = self.x.shape[0]\n",
    "\n",
    "        # Gradients for gamma and beta\n",
    "        dL_dgamma = torch.sum(dL_dy * self.x_hat, axis=0)\n",
    "        dL_dbeta = torch.sum(dL_dy, axis=0)\n",
    "\n",
    "        # Gradient with respect to normalized input\n",
    "        dL_dx_hat = dL_dy * self.gamma\n",
    "\n",
    "        # Gradient with respect to variance\n",
    "        dL_dvariance = torch.sum(dL_dx_hat * (self.x - self.mean) * -0.5 * (self.variance + self.epsilon) ** -1.5, axis=0)\n",
    "\n",
    "        # Gradient with respect to mean\n",
    "        dL_dmean = torch.sum(dL_dx_hat * -1 / torch.sqrt(self.variance + self.epsilon), axis=0) + dL_dvariance * torch.mean(-2 * (self.x - self.mean), axis=0)\n",
    "\n",
    "        # Gradient with respect to input\n",
    "        dL_dx = (dL_dx_hat / torch.sqrt(self.variance + self.epsilon)) + (dL_dvariance * 2 / N * (self.x - self.mean)) + (dL_dmean / N)\n",
    "\n",
    "        return dL_dx, dL_dgamma, dL_dbeta"
   ]
  },
  {
   "cell_type": "code",
   "execution_count": 566,
   "id": "ee3eea3e-806a-4616-9306-f2a68d4487ad",
   "metadata": {},
   "outputs": [
    {
     "data": {
      "text/plain": [
       "tensor([[-1.1403,  1.1735, -0.7960, -0.9548, -0.3952, -1.7733,  0.7488,  1.0071,\n",
       "          0.5092,  0.9171],\n",
       "        [-0.4406, -0.3438, -0.5674,  0.5859,  0.8212,  1.4567, -0.6795, -1.6269,\n",
       "          0.3389,  0.3739],\n",
       "        [ 0.8357, -0.7179, -0.3264, -1.2101,  0.8511,  0.2123,  1.3907,  0.9287,\n",
       "          1.6295, -1.1501],\n",
       "        [-0.3013,  0.1555,  1.2074,  0.3971,  0.7191, -0.2430,  0.4121, -1.0971,\n",
       "         -0.2959,  0.7303],\n",
       "        [-0.8481, -0.9845, -1.3700, -1.2030, -1.5253, -0.0092, -0.4643,  0.6417,\n",
       "         -0.7884,  0.4832],\n",
       "        [ 1.6478,  1.6217, -1.4366,  0.9251, -1.5409,  1.0585,  0.4555, -0.0080,\n",
       "         -1.1716,  0.8023],\n",
       "        [-0.8681,  1.0979,  1.0581,  1.3856,  0.8354, -1.2223,  1.2613,  0.7587,\n",
       "         -1.9071,  0.7197],\n",
       "        [-0.1958, -1.7122,  1.2018,  1.3078,  0.4679,  0.4213, -0.0119,  0.1770,\n",
       "          0.9211, -1.6159],\n",
       "        [ 1.8020,  0.1589,  0.0435, -1.0791, -1.1849, -0.9073, -1.6404,  0.8236,\n",
       "          0.1522, -1.7169],\n",
       "        [-0.4914, -0.4490,  0.9857, -0.1544,  0.9516,  1.0063, -1.4723, -1.6047,\n",
       "          0.6121,  0.4563]])"
      ]
     },
     "execution_count": 566,
     "metadata": {},
     "output_type": "execute_result"
    }
   ],
   "source": [
    "x = torch.rand((10, 10))\n",
    "\n",
    "xmean = x.mean(0, keepdim=True)\n",
    "xvar = (x.var(0, keepdim=True, unbiased=False) + 1e-5)\n",
    "\n",
    "xvar_inv = torch.sqrt(xvar)**-1\n",
    "xraw = (x - xmean) * xvar_inv\n",
    "xraw"
   ]
  },
  {
   "cell_type": "code",
   "execution_count": 568,
   "id": "66d46a41-1430-4c88-a597-c16682c1b9ca",
   "metadata": {},
   "outputs": [
    {
     "data": {
      "text/plain": [
       "True"
      ]
     },
     "execution_count": 568,
     "metadata": {},
     "output_type": "execute_result"
    }
   ],
   "source": [
    "cBn = CustomBatchNorm(10)\n",
    "torch.allclose(cBn.forward(x), xraw)"
   ]
  },
  {
   "cell_type": "code",
   "execution_count": null,
   "id": "189ec1e9-b677-4710-bf7f-918edbb76cd4",
   "metadata": {},
   "outputs": [],
   "source": []
  }
 ],
 "metadata": {
  "kernelspec": {
   "display_name": "Python 3 (ipykernel)",
   "language": "python",
   "name": "python3"
  },
  "language_info": {
   "codemirror_mode": {
    "name": "ipython",
    "version": 3
   },
   "file_extension": ".py",
   "mimetype": "text/x-python",
   "name": "python",
   "nbconvert_exporter": "python",
   "pygments_lexer": "ipython3",
   "version": "3.10.12"
  }
 },
 "nbformat": 4,
 "nbformat_minor": 5
}
